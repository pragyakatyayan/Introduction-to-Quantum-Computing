{
 "cells": [
  {
   "cell_type": "markdown",
   "metadata": {},
   "source": [
    "### QML using Qiskit on sample dataset\n",
    "\n",
    "Qiskit is IBM's package to create quantum circuits and execute them on a local simulator or that can also be sent to IBMQ, a real quantum computer. This code does not use IBMQ. "
   ]
  },
  {
   "cell_type": "code",
   "execution_count": 1,
   "metadata": {},
   "outputs": [],
   "source": [
    "import qiskit"
   ]
  },
  {
   "cell_type": "code",
   "execution_count": 2,
   "metadata": {},
   "outputs": [
    {
     "name": "stderr",
     "output_type": "stream",
     "text": [
      "C:\\Users\\nj\\Anaconda3\\lib\\site-packages\\sklearn\\utils\\deprecation.py:144: FutureWarning: The sklearn.datasets.samples_generator module is  deprecated in version 0.22 and will be removed in version 0.24. The corresponding classes / functions should instead be imported from sklearn.datasets. Anything that cannot be imported from sklearn.datasets is now part of the private API.\n",
      "  warnings.warn(message, FutureWarning)\n"
     ]
    }
   ],
   "source": [
    "import numpy as np\n",
    "from sklearn.datasets.samples_generator import make_blobs\n",
    "from qiskit.aqua.utils import split_dataset_to_data_and_labels \n",
    "from sklearn import svm\n",
    "from matplotlib import pyplot as plt\n",
    "from qiskit.ml.datasets import ad_hoc_data\n",
    "%matplotlib inline\n",
    "%load_ext autoreload\n",
    "%autoreload 2"
   ]
  },
  {
   "cell_type": "markdown",
   "metadata": {},
   "source": [
    "Plot and observe original dataset"
   ]
  },
  {
   "cell_type": "code",
   "execution_count": 5,
   "metadata": {},
   "outputs": [],
   "source": [
    "n = 2 # number of principal components kept\n",
    "training_dataset_size = 20\n",
    "testing_dataset_size = 10\n",
    "\n",
    "sample_Total, training_input, test_input, class_labels = ad_hoc_data(training_dataset_size, testing_dataset_size, n, gap=0.3)\n",
    "\n",
    "data_train, _ = split_dataset_to_data_and_labels(training_input)\n",
    "data_test, _ = split_dataset_to_data_and_labels(test_input)\n",
    "#print(test_input, class_labels)"
   ]
  },
  {
   "cell_type": "code",
   "execution_count": 6,
   "metadata": {},
   "outputs": [],
   "source": [
    "import qiskit as qk\n",
    "\n",
    "# Creating Qubits\n",
    "q = qk.QuantumRegister(2)\n",
    "# Creating Classical Bits\n",
    "c = qk.ClassicalRegister(2)"
   ]
  },
  {
   "cell_type": "markdown",
   "metadata": {},
   "source": [
    "So far we only have an empty quantum circuit with 2 qubits (`q0_0` and `q0_1`) and 2 classical registers (`c0_0` and `c0_1`)."
   ]
  },
  {
   "cell_type": "code",
   "execution_count": 7,
   "metadata": {},
   "outputs": [
    {
     "name": "stdout",
     "output_type": "stream",
     "text": [
      "         \n",
      "q0_0: |0>\n",
      "         \n",
      "q0_1: |0>\n",
      "         \n",
      " c0_0: 0 \n",
      "         \n",
      " c0_1: 0 \n",
      "         \n"
     ]
    }
   ],
   "source": [
    "circuit = qk.QuantumCircuit(q, c)\n",
    "print(circuit)"
   ]
  },
  {
   "cell_type": "markdown",
   "metadata": {},
   "source": [
    "As an example we add a Hadamard gate (h) to the 0-th qubit and a Controlled-Not (also called Controlled-X, CNOT or CX) gate to the circuit, where the control qubit is qubit 0 and the target qubit is qubit 1."
   ]
  },
  {
   "cell_type": "code",
   "execution_count": 8,
   "metadata": {},
   "outputs": [
    {
     "name": "stdout",
     "output_type": "stream",
     "text": [
      "         ┌───┐     ┌─┐   \n",
      "q0_0: |0>┤ H ├──■──┤M├───\n",
      "         └───┘┌─┴─┐└╥┘┌─┐\n",
      "q0_1: |0>─────┤ X ├─╫─┤M├\n",
      "              └───┘ ║ └╥┘\n",
      " c0_0: 0 ═══════════╩══╬═\n",
      "                       ║ \n",
      " c0_1: 0 ══════════════╩═\n",
      "                         \n"
     ]
    }
   ],
   "source": [
    "# Initialize empty circuit\n",
    "circuit = qk.QuantumCircuit(q, c)\n",
    "# Hadamard Gate on the first Qubit\n",
    "circuit.h(q[0])\n",
    "# CNOT Gate on the first and second Qubits\n",
    "circuit.cx(q[0], q[1])\n",
    "# Measuring the Qubits\n",
    "circuit.measure(q, c)\n",
    "print (circuit)"
   ]
  },
  {
   "cell_type": "markdown",
   "metadata": {},
   "source": [
    "In a next step we run this circuit on a quantum simulator. The measurements that we added before at the end of the circuit will measure if the single qubits are either in the state  |0⟩  or  |1⟩  by returning writing the classical bits 0 or 1 into the classical register."
   ]
  },
  {
   "cell_type": "code",
   "execution_count": 9,
   "metadata": {},
   "outputs": [
    {
     "name": "stdout",
     "output_type": "stream",
     "text": [
      "{'00': 51, '11': 49}\n"
     ]
    }
   ],
   "source": [
    "# Using Qiskit Aer's Qasm Simulator: Define where do you want to run the simulation.\n",
    "simulator = qk.BasicAer.get_backend('qasm_simulator')\n",
    "\n",
    "# Simulating the circuit using the simulator to get the result\n",
    "job = qk.execute(circuit, simulator, shots=100)\n",
    "result = job.result()\n",
    "\n",
    "# Getting the aggregated binary outcomes of the circuit.\n",
    "counts = result.get_counts(circuit)\n",
    "print (counts)"
   ]
  },
  {
   "cell_type": "code",
   "execution_count": 10,
   "metadata": {},
   "outputs": [],
   "source": [
    "from qiskit.aqua.components.feature_maps import SecondOrderExpansion\n",
    "\n",
    "feature_map = SecondOrderExpansion(feature_dimension=2,depth=1)"
   ]
  },
  {
   "cell_type": "code",
   "execution_count": 11,
   "metadata": {},
   "outputs": [
    {
     "name": "stdout",
     "output_type": "stream",
     "text": [
      "        ┌──────────┐┌──────────────┐┌──────────────┐┌──────────────┐\n",
      "q_0: |0>┤ U2(0,pi) ├┤0             ├┤0             ├┤0             ├\n",
      "        ├──────────┤│  Evolution^1 ││  Evolution^1 ││  Evolution^1 │\n",
      "q_1: |0>┤ U2(0,pi) ├┤1             ├┤1             ├┤1             ├\n",
      "        └──────────┘└──────────────┘└──────────────┘└──────────────┘\n"
     ]
    }
   ],
   "source": [
    "x = np.array([0.6, 0.3])\n",
    "print(feature_map.construct_circuit(x))"
   ]
  },
  {
   "cell_type": "markdown",
   "metadata": {},
   "source": [
    "Qiskit aqua also provides a pre-defined function to train the whole QSVM. We only have to provide the feature map, a training and a test set and Qiskit will do all the work for us.\n",
    "\n",
    "Apart from finding the quantum Kernel the QSVM algorithm does only classical optimization. In the end there is no difference to the classical SVM, except that the Kernels are coming from a quantum distribution.\n",
    "\n",
    "QSVM will minimize the loss"
   ]
  },
  {
   "cell_type": "code",
   "execution_count": 12,
   "metadata": {},
   "outputs": [],
   "source": [
    "from qiskit.aqua.algorithms import QSVM\n",
    "\n",
    "qsvm = QSVM(feature_map, training_input, test_input)"
   ]
  },
  {
   "cell_type": "markdown",
   "metadata": {},
   "source": [
    "Finally we define where to run this algorithm. This code is executed on a local QASM Simulator. But the algorithm could also be sent to the IBMQ an be evaluated on a real quantum computer.\n",
    "\n",
    "We will have to define the shots, which are the number of measurements that we will take for each qubit. And for better reproducability we also set here the random seeds seed_simulator and see_transpiler."
   ]
  },
  {
   "cell_type": "code",
   "execution_count": 13,
   "metadata": {},
   "outputs": [],
   "source": [
    "from qiskit.aqua import run_algorithm, QuantumInstance\n",
    "from qiskit import BasicAer\n",
    "from qiskit.aqua.input import ClassificationInput\n",
    "\n",
    "backend = BasicAer.get_backend('qasm_simulator')\n",
    "quantum_instance = QuantumInstance(backend, shots=1024, seed_simulator=10598, seed_transpiler=10598)\n",
    "\n",
    "result = qsvm.run(quantum_instance)\n",
    "#alg_input = ClassificationInput(training_dataset=training_input, test_dataset=test_input, datapoints=None)\n",
    "#result = run_algorithm(params, algo_input=alg_input, backend=backend)"
   ]
  },
  {
   "cell_type": "markdown",
   "metadata": {},
   "source": [
    "`results` is a dictionary that contains elements like the kernel matrix, the label predictions and also the classical weights of the QSVM.\n",
    "\n",
    "Since the training set contains 40 elements, the kernel matrix has dimension 40x40"
   ]
  },
  {
   "cell_type": "code",
   "execution_count": 14,
   "metadata": {},
   "outputs": [
    {
     "data": {
      "image/png": "[encoded data removed]",
      "text/plain": [
       "<Figure size 432x288 with 1 Axes>"
      ]
     },
     "metadata": {
      "needs_background": "light"
     },
     "output_type": "display_data"
    },
    {
     "name": "stdout",
     "output_type": "stream",
     "text": [
      "size training set: 40\n",
      "Matrix dimension: (40, 40)\n"
     ]
    }
   ],
   "source": [
    "plt.scatter(training_input['B'][:,0], training_input['B'][:,1])\n",
    "plt.scatter(training_input['A'][:,0], training_input['A'][:,1])\n",
    "plt.show()\n",
    "length_data = len(training_input['B']) + len(training_input['A'])\n",
    "print(\"size training set: {}\".format(length_data))\n",
    "print(\"Matrix dimension: {}\".format(result['kernel_matrix_training'].shape))"
   ]
  },
  {
   "cell_type": "markdown",
   "metadata": {},
   "source": [
    "The success ratio shows how accurate the QSVM predicts the labels of Question dataset"
   ]
  },
  {
   "cell_type": "code",
   "execution_count": 20,
   "metadata": {},
   "outputs": [
    {
     "name": "stdout",
     "output_type": "stream",
     "text": [
      "testing accuracy:  0.95\n",
      "testing success ratio:  0.95\n"
     ]
    }
   ],
   "source": [
    "print(\"testing accuracy: \", result['testing_accuracy'])\n",
    "print(\"testing success ratio: \", result['test_success_ratio'])"
   ]
  },
  {
   "cell_type": "code",
   "execution_count": 16,
   "metadata": {},
   "outputs": [],
   "source": [
    "test_set = np.concatenate((test_input['B'], test_input['A']))\n",
    "y_test = qsvm.predict(test_set, quantum_instance)"
   ]
  },
  {
   "cell_type": "markdown",
   "metadata": {},
   "source": [
    "The first result plot shows the label predictions of the QSVM and the second plot shows the test labels."
   ]
  },
  {
   "cell_type": "code",
   "execution_count": 17,
   "metadata": {},
   "outputs": [
    {
     "data": {
      "image/png": "[encoded data removed]",
      "text/plain": [
       "<Figure size 432x288 with 1 Axes>"
      ]
     },
     "metadata": {
      "needs_background": "light"
     },
     "output_type": "display_data"
    },
    {
     "data": {
      "image/png": "[encoded data removed]",
      "text/plain": [
       "<Figure size 432x288 with 1 Axes>"
      ]
     },
     "metadata": {
      "needs_background": "light"
     },
     "output_type": "display_data"
    }
   ],
   "source": [
    "plt.scatter(test_set[:, 0], test_set[:,1], c=y_test)\n",
    "plt.show()\n",
    "\n",
    "plt.scatter(test_input['B'][:,0], test_input['B'][:,1])\n",
    "plt.scatter(test_input['A'][:,0], test_input['A'][:,1])\n",
    "plt.show()"
   ]
  },
  {
   "cell_type": "markdown",
   "metadata": {},
   "source": [
    "We can repeat these above steps on any of the other datasets using load_iris(), load_digits() & load_wine() to observe how the results change"
   ]
  }
 ],
 "metadata": {
  "kernelspec": {
   "display_name": "Python 3",
   "language": "python",
   "name": "python3"
  },
  "language_info": {
   "codemirror_mode": {
    "name": "ipython",
    "version": 3
   },
   "file_extension": ".py",
   "mimetype": "text/x-python",
   "name": "python",
   "nbconvert_exporter": "python",
   "pygments_lexer": "ipython3",
   "version": "3.7.6"
  }
 },
 "nbformat": 4,
 "nbformat_minor": 2
}
